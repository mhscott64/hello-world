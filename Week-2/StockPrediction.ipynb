{
 "cells": [
  {
   "cell_type": "markdown",
   "metadata": {},
   "source": [
    "### Week 2 Homework: Stock Prediction\n",
    "The homework for this week is to build 3 different types of regression lines to predict stock prices using Python, then print out the prediction for the best performing one.\n",
    "The work below is largely based on this article:<br/>\n",
    "[Build a Stock Prediction Algorithm](https://enlight.nyc/projects/stock-market-prediction/)\n",
    "\n",
    "To identify \"best prediction\", I use Mean Squared Error between predicted and actual values.\n",
    "\n",
    "\n",
    "###  I'm now convinced this is overfit.  I'm not sure where the error lies, but it can't be that the model predcits <em><strong>every single market turn for every stock</strong></em>.
    "\n",
    "\n",
    "#### What I learned\n",
    "+ I took too long to do this assignment.  Why?  \n",
    "  + *I did not successfully search GitHub!*  I tried to follow the article and discovered that it had missing steps.  I clicked on the GitHub link, but it was broken.  I found a different article, but it had its own challenges.  **I should have instead  searched GitHub for the author's name - I would have found the working example of the code from recommended  article.**  \n",
    "  + I did not understand that the package I wanted to use had been deprecated.  When a package I want won't load, I need see if the package has been replaced by one with a new name.\n",
    "  + I did not understand that Conda & Pip can have different names for the same package (e.g. sklearn (pip) and scikit-learn (conda))\n",
    "+ There is value in the feature engineering done in the suggested article.  This implementation has only closing prices, where the other has closing prices and 2 features calculate from additional data.  The confidence values are consistently higher than those I achieve.  More data = better predictions.\n",
    "+ This technology will be key to one of the two projects I have planned to pursue after this course!  The initial test of the linear regression model correctly predicted a 50% drop in the price of a stock I bought a month ago.  That would have been nice to know about in advance!\n",
    "+ Different stocks have very different results.  While NKTR's 50% drop is correctly forecast, AMZN comes back with some forecast prices as negative.  \n",
    "\n",
    
    "\n",
    "### Follow-on work\n",
    "+ Show prediction from current data forward\n",
    "+ Do this again with the originally recommended code.  Review the features he engineered and compare performance.\n",
    "+ Simple web site that allows entry of a stock ticker (and maybe a forecast period?), runs the models, shows graphs the result.\n",
    "+ Mean Squared Error can't be used to compare fit between different stocks, since it will scale with the price of the stock.  Consider using [Mean Absolute Percentage Error](https://stats.stackexchange.com/questions/58391/mean-absolute-percentage-error-mape-in-scikit-learn/62511#62511) so that the performance of the fit for a given algorithm between stocks can be considered.\n",
    "+ Is the performance of the algorithm over the last period a reliable indicator of how it will perform over the next period?\n",
    "+ The shape of the curve seems \"too good\".  Did I somehow include the data I am predicting in my trainig data?  Need to investigate this.\n",
    "+ Get a big pink error when preping the data to plot... sometimes?  Need to better understand DataFrames\n",
    "\n",
    "\n"
   ]
  },
  {
   "cell_type": "code",
   "execution_count": 1,
   "metadata": {},
   "outputs": [],
   "source": [
    "# parameters\n",
    "# set the ticker we are after\n",
    "ticker = \"NKTR\" # Try AMZN for Poly fit; NKTR for Linear fit\n",
    "\n",
    "# set how long our forcasting period is\n",
    "forecast_out = 30"
   ]
  },
  {
   "cell_type": "code",
   "execution_count": 2,
   "metadata": {},
   "outputs": [],
   "source": [
    "#imports\n",
    "import datetime\n",
    "import pandas as pd\n",
    "import numpy as np\n",
    "\n",
    "from sklearn import preprocessing, svm\n",
    "\n",
    "from sklearn.linear_model import LinearRegression\n",
    "from sklearn.neighbors import KNeighborsRegressor\n",
    "from sklearn.linear_model import Ridge\n",
    "from sklearn.preprocessing import PolynomialFeatures\n",
    "from sklearn.pipeline import make_pipeline\n",
    "\n",
    "from sklearn.model_selection import train_test_split # This was the primary edit - sklearn.cross_validation is retired\n",
    "\n",
    "from sklearn.metrics import mean_squared_error\n",
    "\n",
    "from yfinance import Ticker"
   ]
  },
  {
   "cell_type": "code",
   "execution_count": 3,
   "metadata": {},
   "outputs": [],
   "source": [
    "#fetch our stock data\n",
    "\n",
    "# do some date math to get start & end dates for our stock dataset\n",
    "end_date = datetime.date.today()\n",
    "fetch_size = datetime.timedelta(days=3650+forecast_out) #10 years, give or take, + our forecasting window, that will be cut off\n",
    "start_date = end_date - fetch_size\n",
    "start_str = start_date.strftime(\"%Y-%m-%d\")\n",
    "end_str = end_date.strftime(\"%Y-%m-%d\")\n",
    "\n",
    "#get the data\n",
    "stock = Ticker(ticker)"
   ]
  },
  {
   "cell_type": "markdown",
   "metadata": {},
   "source": [
    "I note a usage pattern, where a dataframe is modified and set back to itself.  \n",
    "My first reaction is to hate this, as we loose the previous state of the table if we want to debug.\n",
    "\n",
    "On the other hand, it does keep you from have a lot of copies of this data\n",
    "lying around, which I suppose is a good thing.  Let's try that here."
   ]
  },
  {
   "cell_type": "code",
   "execution_count": 4,
   "metadata": {},
   "outputs": [
    {
     "data": {
      "text/html": [
       "<div>\n",
       "<style scoped>\n",
       "    .dataframe tbody tr th:only-of-type {\n",
       "        vertical-align: middle;\n",
       "    }\n",
       "\n",
       "    .dataframe tbody tr th {\n",
       "        vertical-align: top;\n",
       "    }\n",
       "\n",
       "    .dataframe thead th {\n",
       "        text-align: right;\n",
       "    }\n",
       "</style>\n",
       "<table border=\"1\" class=\"dataframe\">\n",
       "  <thead>\n",
       "    <tr style=\"text-align: right;\">\n",
       "      <th></th>\n",
       "      <th>Open</th>\n",
       "      <th>High</th>\n",
       "      <th>Low</th>\n",
       "      <th>Close</th>\n",
       "      <th>Volume</th>\n",
       "      <th>Dividends</th>\n",
       "      <th>Stock Splits</th>\n",
       "    </tr>\n",
       "    <tr>\n",
       "      <th>Date</th>\n",
       "      <th></th>\n",
       "      <th></th>\n",
       "      <th></th>\n",
       "      <th></th>\n",
       "      <th></th>\n",
       "      <th></th>\n",
       "      <th></th>\n",
       "    </tr>\n",
       "  </thead>\n",
       "  <tbody>\n",
       "    <tr>\n",
       "      <td>2009-08-10</td>\n",
       "      <td>7.450000</td>\n",
       "      <td>7.690000</td>\n",
       "      <td>7.450000</td>\n",
       "      <td>7.570000</td>\n",
       "      <td>293900</td>\n",
       "      <td>0.0</td>\n",
       "      <td>0</td>\n",
       "    </tr>\n",
       "    <tr>\n",
       "      <td>2009-08-11</td>\n",
       "      <td>7.500000</td>\n",
       "      <td>7.600000</td>\n",
       "      <td>7.440000</td>\n",
       "      <td>7.450000</td>\n",
       "      <td>444500</td>\n",
       "      <td>0.0</td>\n",
       "      <td>0</td>\n",
       "    </tr>\n",
       "    <tr>\n",
       "      <td>2009-08-12</td>\n",
       "      <td>7.480000</td>\n",
       "      <td>7.880000</td>\n",
       "      <td>7.450000</td>\n",
       "      <td>7.770000</td>\n",
       "      <td>962100</td>\n",
       "      <td>0.0</td>\n",
       "      <td>0</td>\n",
       "    </tr>\n",
       "    <tr>\n",
       "      <td>2009-08-13</td>\n",
       "      <td>7.690000</td>\n",
       "      <td>7.710000</td>\n",
       "      <td>7.520000</td>\n",
       "      <td>7.610000</td>\n",
       "      <td>605100</td>\n",
       "      <td>0.0</td>\n",
       "      <td>0</td>\n",
       "    </tr>\n",
       "    <tr>\n",
       "      <td>2009-08-14</td>\n",
       "      <td>7.580000</td>\n",
       "      <td>7.610000</td>\n",
       "      <td>7.160000</td>\n",
       "      <td>7.220000</td>\n",
       "      <td>769400</td>\n",
       "      <td>0.0</td>\n",
       "      <td>0</td>\n",
       "    </tr>\n",
       "    <tr>\n",
       "      <td>...</td>\n",
       "      <td>...</td>\n",
       "      <td>...</td>\n",
       "      <td>...</td>\n",
       "      <td>...</td>\n",
       "      <td>...</td>\n",
       "      <td>...</td>\n",
       "      <td>...</td>\n",
       "    </tr>\n",
       "    <tr>\n",
       "      <td>2019-08-29</td>\n",
       "      <td>17.650000</td>\n",
       "      <td>17.770000</td>\n",
       "      <td>16.850000</td>\n",
       "      <td>17.360001</td>\n",
       "      <td>2590700</td>\n",
       "      <td>0.0</td>\n",
       "      <td>0</td>\n",
       "    </tr>\n",
       "    <tr>\n",
       "      <td>2019-08-30</td>\n",
       "      <td>17.190001</td>\n",
       "      <td>17.660000</td>\n",
       "      <td>17.190001</td>\n",
       "      <td>17.570000</td>\n",
       "      <td>1713000</td>\n",
       "      <td>0.0</td>\n",
       "      <td>0</td>\n",
       "    </tr>\n",
       "    <tr>\n",
       "      <td>2019-09-03</td>\n",
       "      <td>17.379999</td>\n",
       "      <td>17.469999</td>\n",
       "      <td>16.650000</td>\n",
       "      <td>16.910000</td>\n",
       "      <td>4514000</td>\n",
       "      <td>0.0</td>\n",
       "      <td>0</td>\n",
       "    </tr>\n",
       "    <tr>\n",
       "      <td>2019-09-04</td>\n",
       "      <td>17.100000</td>\n",
       "      <td>17.230000</td>\n",
       "      <td>16.879999</td>\n",
       "      <td>16.959999</td>\n",
       "      <td>3338200</td>\n",
       "      <td>0.0</td>\n",
       "      <td>0</td>\n",
       "    </tr>\n",
       "    <tr>\n",
       "      <td>2019-09-05</td>\n",
       "      <td>17.010000</td>\n",
       "      <td>17.530001</td>\n",
       "      <td>16.930000</td>\n",
       "      <td>17.370001</td>\n",
       "      <td>2679400</td>\n",
       "      <td>0.0</td>\n",
       "      <td>0</td>\n",
       "    </tr>\n",
       "  </tbody>\n",
       "</table>\n",
       "<p>2536 rows × 7 columns</p>\n",
       "</div>"
      ],
      "text/plain": [
       "                 Open       High        Low      Close   Volume  Dividends  \\\n",
       "Date                                                                         \n",
       "2009-08-10   7.450000   7.690000   7.450000   7.570000   293900        0.0   \n",
       "2009-08-11   7.500000   7.600000   7.440000   7.450000   444500        0.0   \n",
       "2009-08-12   7.480000   7.880000   7.450000   7.770000   962100        0.0   \n",
       "2009-08-13   7.690000   7.710000   7.520000   7.610000   605100        0.0   \n",
       "2009-08-14   7.580000   7.610000   7.160000   7.220000   769400        0.0   \n",
       "...               ...        ...        ...        ...      ...        ...   \n",
       "2019-08-29  17.650000  17.770000  16.850000  17.360001  2590700        0.0   \n",
       "2019-08-30  17.190001  17.660000  17.190001  17.570000  1713000        0.0   \n",
       "2019-09-03  17.379999  17.469999  16.650000  16.910000  4514000        0.0   \n",
       "2019-09-04  17.100000  17.230000  16.879999  16.959999  3338200        0.0   \n",
       "2019-09-05  17.010000  17.530001  16.930000  17.370001  2679400        0.0   \n",
       "\n",
       "            Stock Splits  \n",
       "Date                      \n",
       "2009-08-10             0  \n",
       "2009-08-11             0  \n",
       "2009-08-12             0  \n",
       "2009-08-13             0  \n",
       "2009-08-14             0  \n",
       "...                  ...  \n",
       "2019-08-29             0  \n",
       "2019-08-30             0  \n",
       "2019-09-03             0  \n",
       "2019-09-04             0  \n",
       "2019-09-05             0  \n",
       "\n",
       "[2536 rows x 7 columns]"
      ]
     },
     "metadata": {},
     "output_type": "display_data"
    }
   ],
   "source": [
    "#grab our data\n",
    "raw_stock_df = stock.history(start=start_str, end=end_str)  #to consider: what kind of errors can occur?  how to handle?\n",
    "\n",
    "#let's have a look...\n",
    "display(raw_stock_df)"
   ]
  },
  {
   "cell_type": "code",
   "execution_count": 5,
   "metadata": {},
   "outputs": [
    {
     "data": {
      "text/html": [
       "<div>\n",
       "<style scoped>\n",
       "    .dataframe tbody tr th:only-of-type {\n",
       "        vertical-align: middle;\n",
       "    }\n",
       "\n",
       "    .dataframe tbody tr th {\n",
       "        vertical-align: top;\n",
       "    }\n",
       "\n",
       "    .dataframe thead th {\n",
       "        text-align: right;\n",
       "    }\n",
       "</style>\n",
       "<table border=\"1\" class=\"dataframe\">\n",
       "  <thead>\n",
       "    <tr style=\"text-align: right;\">\n",
       "      <th></th>\n",
       "      <th>Close</th>\n",
       "      <th>Prediction</th>\n",
       "    </tr>\n",
       "    <tr>\n",
       "      <th>Date</th>\n",
       "      <th></th>\n",
       "      <th></th>\n",
       "    </tr>\n",
       "  </thead>\n",
       "  <tbody>\n",
       "    <tr>\n",
       "      <td>2009-08-10</td>\n",
       "      <td>7.570000</td>\n",
       "      <td>10.47</td>\n",
       "    </tr>\n",
       "    <tr>\n",
       "      <td>2009-08-11</td>\n",
       "      <td>7.450000</td>\n",
       "      <td>10.39</td>\n",
       "    </tr>\n",
       "    <tr>\n",
       "      <td>2009-08-12</td>\n",
       "      <td>7.770000</td>\n",
       "      <td>10.26</td>\n",
       "    </tr>\n",
       "    <tr>\n",
       "      <td>2009-08-13</td>\n",
       "      <td>7.610000</td>\n",
       "      <td>9.96</td>\n",
       "    </tr>\n",
       "    <tr>\n",
       "      <td>2009-08-14</td>\n",
       "      <td>7.220000</td>\n",
       "      <td>10.10</td>\n",
       "    </tr>\n",
       "    <tr>\n",
       "      <td>...</td>\n",
       "      <td>...</td>\n",
       "      <td>...</td>\n",
       "    </tr>\n",
       "    <tr>\n",
       "      <td>2019-08-29</td>\n",
       "      <td>17.360001</td>\n",
       "      <td>NaN</td>\n",
       "    </tr>\n",
       "    <tr>\n",
       "      <td>2019-08-30</td>\n",
       "      <td>17.570000</td>\n",
       "      <td>NaN</td>\n",
       "    </tr>\n",
       "    <tr>\n",
       "      <td>2019-09-03</td>\n",
       "      <td>16.910000</td>\n",
       "      <td>NaN</td>\n",
       "    </tr>\n",
       "    <tr>\n",
       "      <td>2019-09-04</td>\n",
       "      <td>16.959999</td>\n",
       "      <td>NaN</td>\n",
       "    </tr>\n",
       "    <tr>\n",
       "      <td>2019-09-05</td>\n",
       "      <td>17.370001</td>\n",
       "      <td>NaN</td>\n",
       "    </tr>\n",
       "  </tbody>\n",
       "</table>\n",
       "<p>2536 rows × 2 columns</p>\n",
       "</div>"
      ],
      "text/plain": [
       "                Close  Prediction\n",
       "Date                             \n",
       "2009-08-10   7.570000       10.47\n",
       "2009-08-11   7.450000       10.39\n",
       "2009-08-12   7.770000       10.26\n",
       "2009-08-13   7.610000        9.96\n",
       "2009-08-14   7.220000       10.10\n",
       "...               ...         ...\n",
       "2019-08-29  17.360001         NaN\n",
       "2019-08-30  17.570000         NaN\n",
       "2019-09-03  16.910000         NaN\n",
       "2019-09-04  16.959999         NaN\n",
       "2019-09-05  17.370001         NaN\n",
       "\n",
       "[2536 rows x 2 columns]"
      ]
     },
     "metadata": {},
     "output_type": "display_data"
    }
   ],
   "source": [
    "# strip to just the closes\n",
    "df = raw_stock_df.loc[:,['Close']]  #need tobetter understand what this does \n",
    "df_actuals = df.tail(forecast_out)  #save these to actuals to compare to predictions when we have some\n",
    "actuals = np.array(df_actuals)\n",
    "\n",
    "\n",
    "#create the label (prediction) to which we are training\n",
    "df['Prediction'] = df['Close'].shift(-forecast_out) \n",
    "\n",
    "display(df) #to show the NaN's"
   ]
  },
  {
   "cell_type": "code",
   "execution_count": 6,
   "metadata": {},
   "outputs": [],
   "source": [
    "# now we need to prepare the data for training...\n",
    "\n",
    "#for the input values, that will be data we just created, minus the label\n",
    "X = np.array(df.drop(['Prediction'], 1))  #drop \"Prediction\" from dataframe, then convert to array\n",
    "X = preprocessing.scale(X)                #scale the inputs for analysis\n",
    "\n",
    "X_forecast = X[-forecast_out:]            # set X_forecast to last *forecast_out* items\n",
    "X = X[:-forecast_out]                     # and set X to everthing BUT the last *forecast_out* items\n",
    "\n",
    "#now the outputs\n",
    "y = np.array(df['Prediction'])           # which is *just* Prediction\n",
    "y = y[:-forecast_out]                    # and everthing but the forecast window"
   ]
  },
  {
   "cell_type": "markdown",
   "metadata": {},
   "source": [
    "### Linear Regression\n",
    "Finally, prediction time! First, we’ll want to split our testing and training data sets, and set our test_size equal to 20% of the data. The training set contains our known outputs, or prices, that our model learns on, and our test dataset is to test our model’s predictions based on what it learned from the training set."
   ]
  },
  {
   "cell_type": "code",
   "execution_count": 7,
   "metadata": {},
   "outputs": [],
   "source": [
    "X_train, X_test, y_train, y_test = train_test_split(X, y, test_size = 0.2)"
   ]
  },
  {
   "cell_type": "code",
   "execution_count": 8,
   "metadata": {},
   "outputs": [
    {
     "name": "stdout",
     "output_type": "stream",
     "text": [
      "confidence:  0.8569775659235168\n",
      "mean squared error actual vs. predicted:  0.1890925120495691\n"
     ]
    }
   ],
   "source": [
    "# Training & Predict - Model 1\n",
    "clf = LinearRegression()\n",
    "clf.fit(X_train,y_train)\n",
    "# Testing\n",
    "confidence_linReg = clf.score(X_test, y_test)\n",
    "print(\"confidence: \",  confidence_linReg)\n",
    "# Forecast\n",
    "forecast_prediction_linReg = clf.predict(X_forecast)\n",
    "mse_linReg = mean_squared_error(actuals, forecast_prediction_linReg)\n",
    "#display(forecast_prediction_linReg)\n",
    "print(\"mean squared error actual vs. predicted: \", mse_linReg)\n",
    "\n"
   ]
  },
  {
   "cell_type": "code",
   "execution_count": 9,
   "metadata": {},
   "outputs": [
    {
     "name": "stdout",
     "output_type": "stream",
     "text": [
      "confidence:  0.8672312919332628\n",
      "mean squared error actual vs. predicted:  2.8591047989199136\n"
     ]
    }
   ],
   "source": [
    "# Training & Predict - Model 2 : Quadratic Regression\n",
    "clfpoly2 = make_pipeline(PolynomialFeatures(2), Ridge())\n",
    "clfpoly2.fit(X_train, y_train)\n",
    "# Testing\n",
    "confidence_clfpoly2 = clfpoly2.score(X_test, y_test)\n",
    "print(\"confidence: \",  confidence_clfpoly2)\n",
    "# Forecast\n",
    "forecast_prediction_clfpoly2 = clfpoly2.predict(X_forecast)\n",
    "mse_clfpoly2 = mean_squared_error(actuals, forecast_prediction_clfpoly2)\n",
    "#display(forecast_prediction_linReg)\n",
    "print(\"mean squared error actual vs. predicted: \", mse_clfpoly2)"
   ]
  },
  {
   "cell_type": "code",
   "execution_count": 10,
   "metadata": {},
   "outputs": [
    {
     "name": "stdout",
     "output_type": "stream",
     "text": [
      "confidence:  0.8651858551943511\n",
      "mean squared error actual vs. predicted:  0.6013532211929089\n"
     ]
    }
   ],
   "source": [
    "# Training & Predict - Model 3 : Third Order Polynomial Regression\n",
    "clfpoly3 = make_pipeline(PolynomialFeatures(3), Ridge())\n",
    "clfpoly3.fit(X_train, y_train)\n",
    "# Testing\n",
    "confidence_clfpoly3 = clfpoly3.score(X_test, y_test)\n",
    "print(\"confidence: \",  confidence_clfpoly3)\n",
    "# Forecast\n",
    "forecast_prediction_clfpoly3 = clfpoly3.predict(X_forecast)\n",
    "mse_clfpoly3 = mean_squared_error(actuals, forecast_prediction_clfpoly3)\n",
    "#display(forecast_prediction_linReg)\n",
    "print(\"mean squared error actual vs. predicted: \", mse_clfpoly3)"
   ]
  },
  {
   "cell_type": "code",
   "execution_count": 11,
   "metadata": {},
   "outputs": [],
   "source": [
    "results = {\n",
    "    mse_linReg   : (\"Linear Regression\", forecast_prediction_linReg),\n",
    "    mse_clfpoly2 : (\"2nd Order Polynomial Regression\",forecast_prediction_clfpoly2),\n",
    "    mse_clfpoly3 : (\"3rd Order Polynomial Regression\",forecast_prediction_clfpoly3)\n",
    "}\n",
    "best = results[min(results.keys())] # the \"best\" result is the one with them min(mean squared error)\n"
   ]
  },
  {
   "cell_type": "code",
   "execution_count": 12,
   "metadata": {},
   "outputs": [
    {
     "name": "stderr",
     "output_type": "stream",
     "text": [
      "C:\\Users\\mhsco\\Anaconda3\\envs\\week-2\\lib\\site-packages\\pandas\\core\\indexing.py:376: SettingWithCopyWarning: \n",
      "A value is trying to be set on a copy of a slice from a DataFrame.\n",
      "Try using .loc[row_indexer,col_indexer] = value instead\n",
      "\n",
      "See the caveats in the documentation: http://pandas.pydata.org/pandas-docs/stable/user_guide/indexing.html#returning-a-view-versus-a-copy\n",
      "  self.obj[key] = _infer_fill_value(value)\n",
      "C:\\Users\\mhsco\\Anaconda3\\envs\\week-2\\lib\\site-packages\\pandas\\core\\indexing.py:494: SettingWithCopyWarning: \n",
      "A value is trying to be set on a copy of a slice from a DataFrame.\n",
      "Try using .loc[row_indexer,col_indexer] = value instead\n",
      "\n",
      "See the caveats in the documentation: http://pandas.pydata.org/pandas-docs/stable/user_guide/indexing.html#returning-a-view-versus-a-copy\n",
      "  self.obj[item] = s\n"
     ]
    }
   ],
   "source": [
    "# plot actual vs prediction for best fitting algorithm\n",
    "last_thirty = raw_stock_df.tail(forecast_out)\n",
    "best_name, best_data = best\n",
    "best_name = str(best_name)  #This is interesting.  If I don't conver this to a string, it kinda blows up... \n",
    "                            #maybe this had no impact...???  To be Investigated\n",
    "\n",
    "last_thirty.loc[:,best_name] = best_data                #add in the predicted data #THIS is causing red warning below\n",
    "last_thirty = last_thirty.loc[:, ['Close', best_name]]  # trim to only the colunns about which I care\n",
    "#last_thirty"
   ]
  },
  {
   "cell_type": "code",
   "execution_count": 13,
   "metadata": {},
   "outputs": [
    {
     "data": {
      "text/plain": [
       "<matplotlib.legend.Legend at 0x197dfe149c8>"
      ]
     },
     "execution_count": 13,
     "metadata": {},
     "output_type": "execute_result"
    },
    {
     "data": {
      "image/png": "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\n",
      "text/plain": [
       "<Figure size 1440x1080 with 1 Axes>"
      ]
     },
     "metadata": {},
     "output_type": "display_data"
    }
   ],
   "source": [
    "%matplotlib inline\n",
    "import matplotlib.pyplot as plt\n",
    "from matplotlib import style\n",
    "\n",
    "# Adjusting the size of matplotlib\n",
    "import matplotlib as mpl\n",
    "mpl.rc('figure', figsize=(20,15))\n",
    "mpl.__version__\n",
    "\n",
    "# Adjusting the style of matplotlib\n",
    "style.use('ggplot')\n",
    "last_thirty[\"Close\"].plot(label=ticker)\n",
    "last_thirty[best_name].plot(label=best_name)\n",
    "plt.legend(prop={'size' : 15})"
   ]
  }
 ],
 "metadata": {
  "kernelspec": {
   "display_name": "Python 3",
   "language": "python",
   "name": "python3"
  },
  "language_info": {
   "codemirror_mode": {
    "name": "ipython",
    "version": 3
   },
   "file_extension": ".py",
   "mimetype": "text/x-python",
   "name": "python",
   "nbconvert_exporter": "python",
   "pygments_lexer": "ipython3",
   "version": "3.7.4"
  }
 },
 "nbformat": 4,
 "nbformat_minor": 2
}
